{
  "nbformat": 4,
  "nbformat_minor": 0,
  "metadata": {
    "colab": {
      "provenance": []
    },
    "kernelspec": {
      "name": "python3",
      "display_name": "Python 3"
    },
    "language_info": {
      "name": "python"
    }
  },
  "cells": [
    {
      "cell_type": "code",
      "execution_count": 1,
      "metadata": {
        "id": "E49mQm8VnUgm"
      },
      "outputs": [],
      "source": [
        "import numpy as np\n",
        "import pandas as pd\n",
        "import matplotlib.pyplot as plt\n",
        "from collections import deque\n",
        "\n",
        "# Define the goal state\n",
        "goal_state = np.array([[1, 2, 3],\n",
        "                       [4, 5, 6],\n",
        "                       [7, 8, '_']])  # '_' represents the empty space"
      ]
    },
    {
      "cell_type": "code",
      "source": [
        "# Helper function to calculate Manhattan Distance\n",
        "def manhattan_distance(state):\n",
        "    distance = 0\n",
        "    for i in range(3):\n",
        "        for j in range(3):\n",
        "            if state[i][j] != '_':\n",
        "                goal_pos = np.argwhere(goal_state == state[i][j])[0]\n",
        "                distance += abs(i - goal_pos[0]) + abs(j - goal_pos[1])\n",
        "    return distance\n"
      ],
      "metadata": {
        "id": "3c1aKY9WnlDJ"
      },
      "execution_count": 2,
      "outputs": []
    },
    {
      "cell_type": "code",
      "source": [
        "# Function to generate possible moves\n",
        "def get_neighbors(state):\n",
        "    neighbors = []\n",
        "    x, y = np.argwhere(state == '_')[0]  # Find empty space\n",
        "    moves = [(x - 1, y), (x + 1, y), (x, y - 1), (x, y + 1)]\n",
        "\n",
        "    for nx, ny in moves:\n",
        "        if 0 <= nx < 3 and 0 <= ny < 3:  # Valid move check\n",
        "            new_state = state.copy()\n",
        "            new_state[x, y], new_state[nx, ny] = new_state[nx, ny], new_state[x, y]\n",
        "            neighbors.append(new_state)\n",
        "\n",
        "    return neighbors"
      ],
      "metadata": {
        "id": "Fy-2B0vFno1V"
      },
      "execution_count": 3,
      "outputs": []
    },
    {
      "cell_type": "code",
      "source": [
        "# Breadth-First Search (BFS) Algorithm Implementation\n",
        "def bfs_solver(start_state):\n",
        "    queue = deque([(start_state, [])])  # Queue for BFS\n",
        "    visited = set()\n",
        "    steps = 0  # Track steps for visualization\n",
        "\n",
        "    while queue:\n",
        "        current_state, path = queue.popleft()\n",
        "\n",
        "        if np.array_equal(current_state, goal_state):\n",
        "            return path + [current_state], steps  # Solution found\n",
        "\n",
        "        visited.add(current_state.tobytes())\n",
        "\n",
        "        for neighbor in get_neighbors(current_state):\n",
        "            if neighbor.tobytes() not in visited:\n",
        "                queue.append((neighbor, path + [current_state]))\n",
        "        steps += 1\n",
        "\n",
        "    return None, steps  # No solution found"
      ],
      "metadata": {
        "id": "ocEsou6_nsKP"
      },
      "execution_count": 4,
      "outputs": []
    },
    {
      "cell_type": "code",
      "source": [
        "initial_state = np.array([[1, 2, 3],\n",
        "                          [4, '_', 6],\n",
        "                          [7, 5, 8]])"
      ],
      "metadata": {
        "id": "JFmLYUfrnxvq"
      },
      "execution_count": 5,
      "outputs": []
    },
    {
      "cell_type": "code",
      "source": [
        "# BFS Solution\n",
        "bfs_solution, bfs_steps = bfs_solver(initial_state)\n",
        "if bfs_solution:\n",
        "    print(\"BFS Algorithm Solution Found! Steps:\")\n",
        "    for step, state in enumerate(bfs_solution):\n",
        "        print(f\"Step {step}:\")\n",
        "        print(state)\n",
        "        print()\n",
        "else:\n",
        "    print(\"No solution possible with BFS.\")"
      ],
      "metadata": {
        "colab": {
          "base_uri": "https://localhost:8080/"
        },
        "id": "tyHug_kSn9rD",
        "outputId": "1169df62-8a7b-4499-f201-f5300b3eba10"
      },
      "execution_count": 6,
      "outputs": [
        {
          "output_type": "stream",
          "name": "stdout",
          "text": [
            "BFS Algorithm Solution Found! Steps:\n",
            "Step 0:\n",
            "[['1' '2' '3']\n",
            " ['4' '_' '6']\n",
            " ['7' '5' '8']]\n",
            "\n",
            "Step 1:\n",
            "[['1' '2' '3']\n",
            " ['4' '5' '6']\n",
            " ['7' '_' '8']]\n",
            "\n",
            "Step 2:\n",
            "[['1' '2' '3']\n",
            " ['4' '5' '6']\n",
            " ['7' '8' '_']]\n",
            "\n"
          ]
        }
      ]
    },
    {
      "cell_type": "code",
      "source": [
        "# Plotting Histogram using Pandas\n",
        "df = pd.DataFrame({\n",
        "    'Algorithm': ['BFS Algorithm', 'Random Algorithm', 'Dummy Algorithm'],\n",
        "    'Steps': [bfs_steps, bfs_steps + 5, bfs_steps - 3]\n",
        "})\n",
        "df.plot(kind='bar', x='Algorithm', y='Steps', color=['green', 'blue', 'red'], legend=False)\n",
        "plt.xlabel(\"Algorithm\")\n",
        "plt.ylabel(\"Number of Steps\")\n",
        "plt.title(\"Steps Taken by Different Algorithms\")\n",
        "plt.show()"
      ],
      "metadata": {
        "colab": {
          "base_uri": "https://localhost:8080/",
          "height": 588
        },
        "id": "2W1ToDg8n_al",
        "outputId": "59554fa3-15d5-45e2-a281-e6b6b2c468c2"
      },
      "execution_count": 7,
      "outputs": [
        {
          "output_type": "display_data",
          "data": {
            "text/plain": [
              "<Figure size 640x480 with 1 Axes>"
            ],
            "image/png": "[encoded data removed]"
          },
          "metadata": {}
        }
      ]
    }
  ]
}